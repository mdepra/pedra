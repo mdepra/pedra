{
 "cells": [
  {
   "cell_type": "code",
   "execution_count": null,
   "id": "004b44c5-3ab2-4383-8b96-88ec42d9f2da",
   "metadata": {},
   "outputs": [],
   "source": []
  },
  {
   "cell_type": "markdown",
   "id": "8a4eee0c-ee57-46b0-8ccd-b5e178fff4bc",
   "metadata": {},
   "source": [
    "## Rotating\n",
    "\n",
    "This will only work if the image has a WCS defined.\n",
    "\n",
    "Notice that differently from the previous operations, where new images were created, \n",
    "the rotation is applied on the image itself"
   ]
  }
 ],
 "metadata": {
  "kernelspec": {
   "display_name": "Python 3 (ipykernel)",
   "language": "python",
   "name": "python3"
  },
  "language_info": {
   "codemirror_mode": {
    "name": "ipython",
    "version": 3
   },
   "file_extension": ".py",
   "mimetype": "text/x-python",
   "name": "python",
   "nbconvert_exporter": "python",
   "pygments_lexer": "ipython3",
   "version": "3.12.2"
  }
 },
 "nbformat": 4,
 "nbformat_minor": 5
}
